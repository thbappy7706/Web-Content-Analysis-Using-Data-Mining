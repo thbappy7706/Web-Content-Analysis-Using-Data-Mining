{
 "cells": [
  {
   "cell_type": "markdown",
   "metadata": {},
   "source": [
    "# Web Content Data Clustering Using K-Means "
   ]
  },
  {
   "cell_type": "markdown",
   "metadata": {},
   "source": [
    "## Import Libraries"
   ]
  },
  {
   "cell_type": "code",
   "execution_count": 1,
   "metadata": {},
   "outputs": [],
   "source": [
    "import pandas as pd\n",
    "import numpy as np\n",
    "import matplotlib.pyplot as plt\n",
    "import seaborn as sns\n",
    "%matplotlib inline"
   ]
  },
  {
   "cell_type": "markdown",
   "metadata": {},
   "source": [
    "## Get The Data\n",
    "### Read in the data file using read.csv  Figure out the whole dataset here"
   ]
  },
  {
   "cell_type": "code",
   "execution_count": 2,
   "metadata": {},
   "outputs": [],
   "source": [
    "df= pd.read_csv('K:/ZDATA/result.csv')"
   ]
  },
  {
   "cell_type": "markdown",
   "metadata": {},
   "source": [
    "### Check the head of the data"
   ]
  },
  {
   "cell_type": "code",
   "execution_count": 4,
   "metadata": {},
   "outputs": [
    {
     "data": {
      "text/html": [
       "<div>\n",
       "<style scoped>\n",
       "    .dataframe tbody tr th:only-of-type {\n",
       "        vertical-align: middle;\n",
       "    }\n",
       "\n",
       "    .dataframe tbody tr th {\n",
       "        vertical-align: top;\n",
       "    }\n",
       "\n",
       "    .dataframe thead th {\n",
       "        text-align: right;\n",
       "    }\n",
       "</style>\n",
       "<table border=\"1\" class=\"dataframe\">\n",
       "  <thead>\n",
       "    <tr style=\"text-align: right;\">\n",
       "      <th></th>\n",
       "      <th>text</th>\n",
       "      <th>url</th>\n",
       "      <th>bounds/width</th>\n",
       "      <th>bounds/height</th>\n",
       "      <th>bounds/left</th>\n",
       "      <th>bounds/right</th>\n",
       "      <th>bounds/top</th>\n",
       "      <th>bounds/bottom</th>\n",
       "      <th>bounds/fontSize</th>\n",
       "      <th>bounds/density</th>\n",
       "      <th>...</th>\n",
       "      <th>bounds/areaDensity</th>\n",
       "      <th>bounds/text_count</th>\n",
       "      <th>meta/moreBigText</th>\n",
       "      <th>meta/isDownTitle</th>\n",
       "      <th>meta/tagName</th>\n",
       "      <th>meta/hasCluster</th>\n",
       "      <th>computed/transform_origin</th>\n",
       "      <th>computed/perspective_origin</th>\n",
       "      <th>computed/line_height</th>\n",
       "      <th>computed/position</th>\n",
       "    </tr>\n",
       "  </thead>\n",
       "  <tbody>\n",
       "    <tr>\n",
       "      <th>0</th>\n",
       "      <td>Elon Musk, guardián de la galaxia</td>\n",
       "      <td>https://elpais.com/elpais/2018/04/25/icon/1524...</td>\n",
       "      <td>980.0</td>\n",
       "      <td>47.0</td>\n",
       "      <td>310.0</td>\n",
       "      <td>1290.0</td>\n",
       "      <td>209.0</td>\n",
       "      <td>256.0</td>\n",
       "      <td>42.0196</td>\n",
       "      <td>309.228071</td>\n",
       "      <td>...</td>\n",
       "      <td>2002.309539</td>\n",
       "      <td>33</td>\n",
       "      <td>True</td>\n",
       "      <td>False</td>\n",
       "      <td>H1</td>\n",
       "      <td>False</td>\n",
       "      <td>490.0</td>\n",
       "      <td>490.0</td>\n",
       "      <td>47.9024</td>\n",
       "      <td>relative</td>\n",
       "    </tr>\n",
       "    <tr>\n",
       "      <th>1</th>\n",
       "      <td>Lo que separa a este hombre de anteriores char...</td>\n",
       "      <td>https://elpais.com/elpais/2018/04/25/icon/1524...</td>\n",
       "      <td>980.0</td>\n",
       "      <td>54.0</td>\n",
       "      <td>310.0</td>\n",
       "      <td>1290.0</td>\n",
       "      <td>270.0</td>\n",
       "      <td>324.0</td>\n",
       "      <td>20.0014</td>\n",
       "      <td>229.601829</td>\n",
       "      <td>...</td>\n",
       "      <td>1991.400622</td>\n",
       "      <td>166</td>\n",
       "      <td>False</td>\n",
       "      <td>True</td>\n",
       "      <td>H2</td>\n",
       "      <td>False</td>\n",
       "      <td>490.0</td>\n",
       "      <td>490.0</td>\n",
       "      <td>27.0019</td>\n",
       "      <td>relative</td>\n",
       "    </tr>\n",
       "    <tr>\n",
       "      <th>2</th>\n",
       "      <td>Elon Musk dice tener un proyecto de nave espac...</td>\n",
       "      <td>https://elpais.com/elpais/2018/04/25/icon/1524...</td>\n",
       "      <td>980.0</td>\n",
       "      <td>48.0</td>\n",
       "      <td>310.0</td>\n",
       "      <td>1290.0</td>\n",
       "      <td>1085.0</td>\n",
       "      <td>1133.0</td>\n",
       "      <td>12.9941</td>\n",
       "      <td>213.267438</td>\n",
       "      <td>...</td>\n",
       "      <td>2000.703607</td>\n",
       "      <td>234</td>\n",
       "      <td>False</td>\n",
       "      <td>True</td>\n",
       "      <td>FIGCAPTION</td>\n",
       "      <td>False</td>\n",
       "      <td>490.0</td>\n",
       "      <td>490.0</td>\n",
       "      <td>14.0336</td>\n",
       "      <td>relative</td>\n",
       "    </tr>\n",
       "    <tr>\n",
       "      <th>3</th>\n",
       "      <td>27 ABR 2018 - 10:56CEST</td>\n",
       "      <td>https://elpais.com/elpais/2018/04/25/icon/1524...</td>\n",
       "      <td>980.0</td>\n",
       "      <td>18.0</td>\n",
       "      <td>310.0</td>\n",
       "      <td>1290.0</td>\n",
       "      <td>1179.0</td>\n",
       "      <td>1197.0</td>\n",
       "      <td>17.0080</td>\n",
       "      <td>222.968608</td>\n",
       "      <td>...</td>\n",
       "      <td>2060.151068</td>\n",
       "      <td>23</td>\n",
       "      <td>False</td>\n",
       "      <td>True</td>\n",
       "      <td>DIV</td>\n",
       "      <td>False</td>\n",
       "      <td>490.0</td>\n",
       "      <td>490.0</td>\n",
       "      <td>16</td>\n",
       "      <td>relative</td>\n",
       "    </tr>\n",
       "    <tr>\n",
       "      <th>4</th>\n",
       "      <td>En el fulgor marfileño de la dentadura de Elon...</td>\n",
       "      <td>https://elpais.com/elpais/2018/04/25/icon/1524...</td>\n",
       "      <td>640.0</td>\n",
       "      <td>140.0</td>\n",
       "      <td>310.0</td>\n",
       "      <td>950.0</td>\n",
       "      <td>1217.0</td>\n",
       "      <td>1357.0</td>\n",
       "      <td>17.0080</td>\n",
       "      <td>282.752542</td>\n",
       "      <td>...</td>\n",
       "      <td>1942.405818</td>\n",
       "      <td>369</td>\n",
       "      <td>False</td>\n",
       "      <td>True</td>\n",
       "      <td>P</td>\n",
       "      <td>True</td>\n",
       "      <td>320.0</td>\n",
       "      <td>320.0</td>\n",
       "      <td>28.0632</td>\n",
       "      <td>relative</td>\n",
       "    </tr>\n",
       "  </tbody>\n",
       "</table>\n",
       "<p>5 rows × 21 columns</p>\n",
       "</div>"
      ],
      "text/plain": [
       "                                                text  \\\n",
       "0                  Elon Musk, guardián de la galaxia   \n",
       "1  Lo que separa a este hombre de anteriores char...   \n",
       "2  Elon Musk dice tener un proyecto de nave espac...   \n",
       "3                            27 ABR 2018 - 10:56CEST   \n",
       "4  En el fulgor marfileño de la dentadura de Elon...   \n",
       "\n",
       "                                                 url  bounds/width  \\\n",
       "0  https://elpais.com/elpais/2018/04/25/icon/1524...         980.0   \n",
       "1  https://elpais.com/elpais/2018/04/25/icon/1524...         980.0   \n",
       "2  https://elpais.com/elpais/2018/04/25/icon/1524...         980.0   \n",
       "3  https://elpais.com/elpais/2018/04/25/icon/1524...         980.0   \n",
       "4  https://elpais.com/elpais/2018/04/25/icon/1524...         640.0   \n",
       "\n",
       "   bounds/height  bounds/left  bounds/right  bounds/top  bounds/bottom  \\\n",
       "0           47.0        310.0        1290.0       209.0          256.0   \n",
       "1           54.0        310.0        1290.0       270.0          324.0   \n",
       "2           48.0        310.0        1290.0      1085.0         1133.0   \n",
       "3           18.0        310.0        1290.0      1179.0         1197.0   \n",
       "4          140.0        310.0         950.0      1217.0         1357.0   \n",
       "\n",
       "   bounds/fontSize  bounds/density  ...  bounds/areaDensity  \\\n",
       "0          42.0196      309.228071  ...         2002.309539   \n",
       "1          20.0014      229.601829  ...         1991.400622   \n",
       "2          12.9941      213.267438  ...         2000.703607   \n",
       "3          17.0080      222.968608  ...         2060.151068   \n",
       "4          17.0080      282.752542  ...         1942.405818   \n",
       "\n",
       "   bounds/text_count  meta/moreBigText  meta/isDownTitle  meta/tagName  \\\n",
       "0                 33              True             False            H1   \n",
       "1                166             False              True            H2   \n",
       "2                234             False              True    FIGCAPTION   \n",
       "3                 23             False              True           DIV   \n",
       "4                369             False              True             P   \n",
       "\n",
       "  meta/hasCluster  computed/transform_origin  computed/perspective_origin  \\\n",
       "0           False                      490.0                        490.0   \n",
       "1           False                      490.0                        490.0   \n",
       "2           False                      490.0                        490.0   \n",
       "3           False                      490.0                        490.0   \n",
       "4            True                      320.0                        320.0   \n",
       "\n",
       "   computed/line_height computed/position  \n",
       "0               47.9024          relative  \n",
       "1               27.0019          relative  \n",
       "2               14.0336          relative  \n",
       "3                    16          relative  \n",
       "4               28.0632          relative  \n",
       "\n",
       "[5 rows x 21 columns]"
      ]
     },
     "execution_count": 4,
     "metadata": {},
     "output_type": "execute_result"
    }
   ],
   "source": [
    "df.head()"
   ]
  },
  {
   "cell_type": "markdown",
   "metadata": {},
   "source": [
    "### Check the info of the dataset"
   ]
  },
  {
   "cell_type": "code",
   "execution_count": 5,
   "metadata": {},
   "outputs": [
    {
     "name": "stdout",
     "output_type": "stream",
     "text": [
      "<class 'pandas.core.frame.DataFrame'>\n",
      "RangeIndex: 7879 entries, 0 to 7878\n",
      "Data columns (total 21 columns):\n",
      "text                           7879 non-null object\n",
      "url                            7879 non-null object\n",
      "bounds/width                   7879 non-null float64\n",
      "bounds/height                  7879 non-null float64\n",
      "bounds/left                    7879 non-null float64\n",
      "bounds/right                   7879 non-null float64\n",
      "bounds/top                     7879 non-null float64\n",
      "bounds/bottom                  7879 non-null float64\n",
      "bounds/fontSize                7879 non-null float64\n",
      "bounds/density                 7874 non-null float64\n",
      "bounds/densityOnScreen         7879 non-null float64\n",
      "bounds/areaDensity             7879 non-null float64\n",
      "bounds/text_count              7879 non-null int64\n",
      "meta/moreBigText               7879 non-null bool\n",
      "meta/isDownTitle               7879 non-null bool\n",
      "meta/tagName                   7879 non-null object\n",
      "meta/hasCluster                7879 non-null bool\n",
      "computed/transform_origin      7879 non-null float64\n",
      "computed/perspective_origin    7879 non-null float64\n",
      "computed/line_height           7879 non-null object\n",
      "computed/position              6508 non-null object\n",
      "dtypes: bool(3), float64(12), int64(1), object(5)\n",
      "memory usage: 1.1+ MB\n"
     ]
    }
   ],
   "source": [
    "df.info()"
   ]
  },
  {
   "cell_type": "markdown",
   "metadata": {},
   "source": [
    "### Describe the dataset"
   ]
  },
  {
   "cell_type": "code",
   "execution_count": 6,
   "metadata": {},
   "outputs": [
    {
     "data": {
      "text/html": [
       "<div>\n",
       "<style scoped>\n",
       "    .dataframe tbody tr th:only-of-type {\n",
       "        vertical-align: middle;\n",
       "    }\n",
       "\n",
       "    .dataframe tbody tr th {\n",
       "        vertical-align: top;\n",
       "    }\n",
       "\n",
       "    .dataframe thead th {\n",
       "        text-align: right;\n",
       "    }\n",
       "</style>\n",
       "<table border=\"1\" class=\"dataframe\">\n",
       "  <thead>\n",
       "    <tr style=\"text-align: right;\">\n",
       "      <th></th>\n",
       "      <th>bounds/width</th>\n",
       "      <th>bounds/height</th>\n",
       "      <th>bounds/left</th>\n",
       "      <th>bounds/right</th>\n",
       "      <th>bounds/top</th>\n",
       "      <th>bounds/bottom</th>\n",
       "      <th>bounds/fontSize</th>\n",
       "      <th>bounds/density</th>\n",
       "      <th>bounds/densityOnScreen</th>\n",
       "      <th>bounds/areaDensity</th>\n",
       "      <th>bounds/text_count</th>\n",
       "      <th>computed/transform_origin</th>\n",
       "      <th>computed/perspective_origin</th>\n",
       "    </tr>\n",
       "  </thead>\n",
       "  <tbody>\n",
       "    <tr>\n",
       "      <th>count</th>\n",
       "      <td>7879.000000</td>\n",
       "      <td>7879.000000</td>\n",
       "      <td>7879.000000</td>\n",
       "      <td>7879.000000</td>\n",
       "      <td>7879.000000</td>\n",
       "      <td>7879.000000</td>\n",
       "      <td>7879.000000</td>\n",
       "      <td>7874.000000</td>\n",
       "      <td>7.879000e+03</td>\n",
       "      <td>7879.000000</td>\n",
       "      <td>7879.0000</td>\n",
       "      <td>7879.000000</td>\n",
       "      <td>7879.000000</td>\n",
       "    </tr>\n",
       "    <tr>\n",
       "      <th>mean</th>\n",
       "      <td>518.067601</td>\n",
       "      <td>99.263533</td>\n",
       "      <td>516.936495</td>\n",
       "      <td>1035.004095</td>\n",
       "      <td>3332.453073</td>\n",
       "      <td>3431.716606</td>\n",
       "      <td>17.644236</td>\n",
       "      <td>240.042142</td>\n",
       "      <td>6.368491e+03</td>\n",
       "      <td>2011.559698</td>\n",
       "      <td>161.5686</td>\n",
       "      <td>257.735789</td>\n",
       "      <td>257.735789</td>\n",
       "    </tr>\n",
       "    <tr>\n",
       "      <th>std</th>\n",
       "      <td>273.817975</td>\n",
       "      <td>168.443675</td>\n",
       "      <td>1019.625274</td>\n",
       "      <td>965.942294</td>\n",
       "      <td>3367.264932</td>\n",
       "      <td>3368.413042</td>\n",
       "      <td>5.983419</td>\n",
       "      <td>307.140299</td>\n",
       "      <td>4.594008e+04</td>\n",
       "      <td>79.350065</td>\n",
       "      <td>261.0093</td>\n",
       "      <td>129.076842</td>\n",
       "      <td>129.076842</td>\n",
       "    </tr>\n",
       "    <tr>\n",
       "      <th>min</th>\n",
       "      <td>58.000000</td>\n",
       "      <td>11.000000</td>\n",
       "      <td>-13434.500000</td>\n",
       "      <td>-12904.500000</td>\n",
       "      <td>-5000.000000</td>\n",
       "      <td>-4800.000000</td>\n",
       "      <td>0.000000</td>\n",
       "      <td>50.309045</td>\n",
       "      <td>5.005991e+02</td>\n",
       "      <td>666.508750</td>\n",
       "      <td>5.0000</td>\n",
       "      <td>0.000000</td>\n",
       "      <td>0.000000</td>\n",
       "    </tr>\n",
       "    <tr>\n",
       "      <th>25%</th>\n",
       "      <td>292.000000</td>\n",
       "      <td>46.000000</td>\n",
       "      <td>310.000000</td>\n",
       "      <td>942.500000</td>\n",
       "      <td>1281.000000</td>\n",
       "      <td>1391.812500</td>\n",
       "      <td>15.000000</td>\n",
       "      <td>112.143880</td>\n",
       "      <td>7.932160e+02</td>\n",
       "      <td>1977.780022</td>\n",
       "      <td>65.0000</td>\n",
       "      <td>146.000000</td>\n",
       "      <td>146.000000</td>\n",
       "    </tr>\n",
       "    <tr>\n",
       "      <th>50%</th>\n",
       "      <td>540.000000</td>\n",
       "      <td>69.000000</td>\n",
       "      <td>415.000000</td>\n",
       "      <td>1021.000000</td>\n",
       "      <td>2441.281250</td>\n",
       "      <td>2550.625000</td>\n",
       "      <td>16.000000</td>\n",
       "      <td>188.342760</td>\n",
       "      <td>1.410726e+03</td>\n",
       "      <td>2037.960367</td>\n",
       "      <td>90.0000</td>\n",
       "      <td>270.000000</td>\n",
       "      <td>270.000000</td>\n",
       "    </tr>\n",
       "    <tr>\n",
       "      <th>75%</th>\n",
       "      <td>665.000000</td>\n",
       "      <td>112.000000</td>\n",
       "      <td>809.390625</td>\n",
       "      <td>1277.500000</td>\n",
       "      <td>4104.906250</td>\n",
       "      <td>4199.585938</td>\n",
       "      <td>19.000000</td>\n",
       "      <td>301.241182</td>\n",
       "      <td>5.051452e+03</td>\n",
       "      <td>2066.487387</td>\n",
       "      <td>190.5000</td>\n",
       "      <td>332.500000</td>\n",
       "      <td>332.500000</td>\n",
       "    </tr>\n",
       "    <tr>\n",
       "      <th>max</th>\n",
       "      <td>5280.859375</td>\n",
       "      <td>8334.562500</td>\n",
       "      <td>7409.546875</td>\n",
       "      <td>7705.546875</td>\n",
       "      <td>22499.125000</td>\n",
       "      <td>22547.125000</td>\n",
       "      <td>80.000000</td>\n",
       "      <td>9951.493807</td>\n",
       "      <td>2.282233e+06</td>\n",
       "      <td>2089.065923</td>\n",
       "      <td>9138.0000</td>\n",
       "      <td>800.000000</td>\n",
       "      <td>800.000000</td>\n",
       "    </tr>\n",
       "  </tbody>\n",
       "</table>\n",
       "</div>"
      ],
      "text/plain": [
       "       bounds/width  bounds/height   bounds/left  bounds/right    bounds/top  \\\n",
       "count   7879.000000    7879.000000   7879.000000   7879.000000   7879.000000   \n",
       "mean     518.067601      99.263533    516.936495   1035.004095   3332.453073   \n",
       "std      273.817975     168.443675   1019.625274    965.942294   3367.264932   \n",
       "min       58.000000      11.000000 -13434.500000 -12904.500000  -5000.000000   \n",
       "25%      292.000000      46.000000    310.000000    942.500000   1281.000000   \n",
       "50%      540.000000      69.000000    415.000000   1021.000000   2441.281250   \n",
       "75%      665.000000     112.000000    809.390625   1277.500000   4104.906250   \n",
       "max     5280.859375    8334.562500   7409.546875   7705.546875  22499.125000   \n",
       "\n",
       "       bounds/bottom  bounds/fontSize  bounds/density  bounds/densityOnScreen  \\\n",
       "count    7879.000000      7879.000000     7874.000000            7.879000e+03   \n",
       "mean     3431.716606        17.644236      240.042142            6.368491e+03   \n",
       "std      3368.413042         5.983419      307.140299            4.594008e+04   \n",
       "min     -4800.000000         0.000000       50.309045            5.005991e+02   \n",
       "25%      1391.812500        15.000000      112.143880            7.932160e+02   \n",
       "50%      2550.625000        16.000000      188.342760            1.410726e+03   \n",
       "75%      4199.585938        19.000000      301.241182            5.051452e+03   \n",
       "max     22547.125000        80.000000     9951.493807            2.282233e+06   \n",
       "\n",
       "       bounds/areaDensity  bounds/text_count  computed/transform_origin  \\\n",
       "count         7879.000000          7879.0000                7879.000000   \n",
       "mean          2011.559698           161.5686                 257.735789   \n",
       "std             79.350065           261.0093                 129.076842   \n",
       "min            666.508750             5.0000                   0.000000   \n",
       "25%           1977.780022            65.0000                 146.000000   \n",
       "50%           2037.960367            90.0000                 270.000000   \n",
       "75%           2066.487387           190.5000                 332.500000   \n",
       "max           2089.065923          9138.0000                 800.000000   \n",
       "\n",
       "       computed/perspective_origin  \n",
       "count                  7879.000000  \n",
       "mean                    257.735789  \n",
       "std                     129.076842  \n",
       "min                       0.000000  \n",
       "25%                     146.000000  \n",
       "50%                     270.000000  \n",
       "75%                     332.500000  \n",
       "max                     800.000000  "
      ]
     },
     "execution_count": 6,
     "metadata": {},
     "output_type": "execute_result"
    }
   ],
   "source": [
    "df.describe()"
   ]
  },
  {
   "cell_type": "markdown",
   "metadata": {},
   "source": [
    "### Now describe the head and tail of the dataset. Here Head and tail report seems same."
   ]
  },
  {
   "cell_type": "code",
   "execution_count": 7,
   "metadata": {},
   "outputs": [
    {
     "data": {
      "text/plain": [
       "<bound method NDFrame.head of        bounds/width  bounds/height   bounds/left  bounds/right    bounds/top  \\\n",
       "count   7879.000000    7879.000000   7879.000000   7879.000000   7879.000000   \n",
       "mean     518.067601      99.263533    516.936495   1035.004095   3332.453073   \n",
       "std      273.817975     168.443675   1019.625274    965.942294   3367.264932   \n",
       "min       58.000000      11.000000 -13434.500000 -12904.500000  -5000.000000   \n",
       "25%      292.000000      46.000000    310.000000    942.500000   1281.000000   \n",
       "50%      540.000000      69.000000    415.000000   1021.000000   2441.281250   \n",
       "75%      665.000000     112.000000    809.390625   1277.500000   4104.906250   \n",
       "max     5280.859375    8334.562500   7409.546875   7705.546875  22499.125000   \n",
       "\n",
       "       bounds/bottom  bounds/fontSize  bounds/density  bounds/densityOnScreen  \\\n",
       "count    7879.000000      7879.000000     7874.000000            7.879000e+03   \n",
       "mean     3431.716606        17.644236      240.042142            6.368491e+03   \n",
       "std      3368.413042         5.983419      307.140299            4.594008e+04   \n",
       "min     -4800.000000         0.000000       50.309045            5.005991e+02   \n",
       "25%      1391.812500        15.000000      112.143880            7.932160e+02   \n",
       "50%      2550.625000        16.000000      188.342760            1.410726e+03   \n",
       "75%      4199.585938        19.000000      301.241182            5.051452e+03   \n",
       "max     22547.125000        80.000000     9951.493807            2.282233e+06   \n",
       "\n",
       "       bounds/areaDensity  bounds/text_count  computed/transform_origin  \\\n",
       "count         7879.000000          7879.0000                7879.000000   \n",
       "mean          2011.559698           161.5686                 257.735789   \n",
       "std             79.350065           261.0093                 129.076842   \n",
       "min            666.508750             5.0000                   0.000000   \n",
       "25%           1977.780022            65.0000                 146.000000   \n",
       "50%           2037.960367            90.0000                 270.000000   \n",
       "75%           2066.487387           190.5000                 332.500000   \n",
       "max           2089.065923          9138.0000                 800.000000   \n",
       "\n",
       "       computed/perspective_origin  \n",
       "count                  7879.000000  \n",
       "mean                    257.735789  \n",
       "std                     129.076842  \n",
       "min                       0.000000  \n",
       "25%                     146.000000  \n",
       "50%                     270.000000  \n",
       "75%                     332.500000  \n",
       "max                     800.000000  >"
      ]
     },
     "execution_count": 7,
     "metadata": {},
     "output_type": "execute_result"
    }
   ],
   "source": [
    "df.describe().head"
   ]
  },
  {
   "cell_type": "markdown",
   "metadata": {},
   "source": [
    "## Create Some Data Visualization\n",
    "#### Create a Scatterplot of \"bounds/density\" vs \"bounds/areaDensity\" where the points are colored by the  meta/cluster  column"
   ]
  },
  {
   "cell_type": "code",
   "execution_count": 8,
   "metadata": {},
   "outputs": [
    {
     "name": "stderr",
     "output_type": "stream",
     "text": [
      "C:\\ProgramData\\Anaconda3\\lib\\site-packages\\seaborn\\regression.py:546: UserWarning: The `size` paramter has been renamed to `height`; please update your code.\n",
      "  warnings.warn(msg, UserWarning)\n"
     ]
    },
    {
     "data": {
      "text/plain": [
       "<seaborn.axisgrid.FacetGrid at 0x12dce349e80>"
      ]
     },
     "execution_count": 8,
     "metadata": {},
     "output_type": "execute_result"
    },
    {
     "data": {
      "image/png": "[encoded data removed]",
      "text/plain": [
       "<Figure size 522.375x432 with 1 Axes>"
      ]
     },
     "metadata": {
      "needs_background": "light"
     },
     "output_type": "display_data"
    }
   ],
   "source": [
    "sns.lmplot(x='bounds/density', y= 'bounds/areaDensity', data= df, hue='meta/hasCluster',fit_reg=False, palette='coolwarm',size=6, aspect=1)"
   ]
  },
  {
   "cell_type": "code",
   "execution_count": 9,
   "metadata": {},
   "outputs": [
    {
     "name": "stderr",
     "output_type": "stream",
     "text": [
      "C:\\ProgramData\\Anaconda3\\lib\\site-packages\\ipykernel_launcher.py:1: DeprecationWarning: \n",
      ".ix is deprecated. Please use\n",
      ".loc for label based indexing or\n",
      ".iloc for positional indexing\n",
      "\n",
      "See the documentation here:\n",
      "http://pandas.pydata.org/pandas-docs/stable/indexing.html#ix-indexer-is-deprecated\n",
      "  \"\"\"Entry point for launching an IPython kernel.\n",
      "C:\\ProgramData\\Anaconda3\\lib\\site-packages\\ipykernel_launcher.py:3: DeprecationWarning: \n",
      ".ix is deprecated. Please use\n",
      ".loc for label based indexing or\n",
      ".iloc for positional indexing\n",
      "\n",
      "See the documentation here:\n",
      "http://pandas.pydata.org/pandas-docs/stable/indexing.html#ix-indexer-is-deprecated\n",
      "  This is separate from the ipykernel package so we can avoid doing imports until\n"
     ]
    }
   ],
   "source": [
    "df_data=df.ix[:,(10,11)].values\n",
    "df_data_names= ['bounds/density','bounds/areaDensity']\n",
    "y= df.ix[:,9].values"
   ]
  },
  {
   "cell_type": "code",
   "execution_count": 10,
   "metadata": {},
   "outputs": [
    {
     "data": {
      "text/plain": [
       "<matplotlib.axes._subplots.AxesSubplot at 0x12dce6aa048>"
      ]
     },
     "execution_count": 10,
     "metadata": {},
     "output_type": "execute_result"
    },
    {
     "data": {
      "image/png": "[encoded data removed]",
      "text/plain": [
       "<Figure size 432x288 with 1 Axes>"
      ]
     },
     "metadata": {
      "needs_background": "light"
     },
     "output_type": "display_data"
    }
   ],
   "source": [
    "sns.regplot(x='bounds/density', y='bounds/areaDensity', data= df, scatter=True)"
   ]
  },
  {
   "cell_type": "markdown",
   "metadata": {},
   "source": [
    "### Now create a stacked histogram showing  the output of  the two columns bounds/density and bounds/areaDensity"
   ]
  },
  {
   "cell_type": "code",
   "execution_count": 11,
   "metadata": {},
   "outputs": [
    {
     "name": "stderr",
     "output_type": "stream",
     "text": [
      "C:\\ProgramData\\Anaconda3\\lib\\site-packages\\seaborn\\axisgrid.py:230: UserWarning: The `size` paramter has been renamed to `height`; please update your code.\n",
      "  warnings.warn(msg, UserWarning)\n"
     ]
    },
    {
     "data": {
      "image/png": "[encoded data removed]",
      "text/plain": [
       "<Figure size 504x504 with 1 Axes>"
      ]
     },
     "metadata": {
      "needs_background": "light"
     },
     "output_type": "display_data"
    }
   ],
   "source": [
    "g= sns.FacetGrid(df, hue='meta/hasCluster',palette='coolwarm', size=7 ,aspect=1)\n",
    "g= g.map(plt.hist,'bounds/areaDensity', bins=20, alpha=0.7)"
   ]
  },
  {
   "cell_type": "markdown",
   "metadata": {},
   "source": [
    " ### Again descriptive statistics of the dataset"
   ]
  },
  {
   "cell_type": "code",
   "execution_count": 12,
   "metadata": {},
   "outputs": [
    {
     "data": {
      "text/plain": [
       "<bound method DataFrame.transpose of        bounds/width  bounds/height   bounds/left  bounds/right    bounds/top  \\\n",
       "count   7879.000000    7879.000000   7879.000000   7879.000000   7879.000000   \n",
       "mean     518.067601      99.263533    516.936495   1035.004095   3332.453073   \n",
       "std      273.817975     168.443675   1019.625274    965.942294   3367.264932   \n",
       "min       58.000000      11.000000 -13434.500000 -12904.500000  -5000.000000   \n",
       "25%      292.000000      46.000000    310.000000    942.500000   1281.000000   \n",
       "50%      540.000000      69.000000    415.000000   1021.000000   2441.281250   \n",
       "75%      665.000000     112.000000    809.390625   1277.500000   4104.906250   \n",
       "max     5280.859375    8334.562500   7409.546875   7705.546875  22499.125000   \n",
       "\n",
       "       bounds/bottom  bounds/fontSize  bounds/density  bounds/densityOnScreen  \\\n",
       "count    7879.000000      7879.000000     7874.000000            7.879000e+03   \n",
       "mean     3431.716606        17.644236      240.042142            6.368491e+03   \n",
       "std      3368.413042         5.983419      307.140299            4.594008e+04   \n",
       "min     -4800.000000         0.000000       50.309045            5.005991e+02   \n",
       "25%      1391.812500        15.000000      112.143880            7.932160e+02   \n",
       "50%      2550.625000        16.000000      188.342760            1.410726e+03   \n",
       "75%      4199.585938        19.000000      301.241182            5.051452e+03   \n",
       "max     22547.125000        80.000000     9951.493807            2.282233e+06   \n",
       "\n",
       "       bounds/areaDensity  bounds/text_count  computed/transform_origin  \\\n",
       "count         7879.000000          7879.0000                7879.000000   \n",
       "mean          2011.559698           161.5686                 257.735789   \n",
       "std             79.350065           261.0093                 129.076842   \n",
       "min            666.508750             5.0000                   0.000000   \n",
       "25%           1977.780022            65.0000                 146.000000   \n",
       "50%           2037.960367            90.0000                 270.000000   \n",
       "75%           2066.487387           190.5000                 332.500000   \n",
       "max           2089.065923          9138.0000                 800.000000   \n",
       "\n",
       "       computed/perspective_origin  \n",
       "count                  7879.000000  \n",
       "mean                    257.735789  \n",
       "std                     129.076842  \n",
       "min                       0.000000  \n",
       "25%                     146.000000  \n",
       "50%                     270.000000  \n",
       "75%                     332.500000  \n",
       "max                     800.000000  >"
      ]
     },
     "execution_count": 12,
     "metadata": {},
     "output_type": "execute_result"
    }
   ],
   "source": [
    "df.describe().transpose"
   ]
  },
  {
   "cell_type": "markdown",
   "metadata": {},
   "source": [
    "### The distribution of the computed/transform_origin  and computed/perspective_origin has been illustrated with a distplot and violinplot."
   ]
  },
  {
   "cell_type": "code",
   "execution_count": 13,
   "metadata": {},
   "outputs": [
    {
     "data": {
      "image/png": "[encoded data removed]",
      "text/plain": [
       "<Figure size 720x360 with 1 Axes>"
      ]
     },
     "metadata": {
      "needs_background": "light"
     },
     "output_type": "display_data"
    }
   ],
   "source": [
    "plt.figure(figsize=(10,5))\n",
    "plot_transform = sns.distplot(df[\"computed/transform_origin\"])\n",
    " "
   ]
  },
  {
   "cell_type": "code",
   "execution_count": 14,
   "metadata": {},
   "outputs": [
    {
     "data": {
      "image/png": "[encoded data removed]",
      "text/plain": [
       "<Figure size 720x360 with 1 Axes>"
      ]
     },
     "metadata": {
      "needs_background": "light"
     },
     "output_type": "display_data"
    }
   ],
   "source": [
    "plt.figure(figsize=(10,5))\n",
    "plot_transform = sns.distplot(df[\"computed/perspective_origin\"])"
   ]
  },
  {
   "cell_type": "markdown",
   "metadata": {},
   "source": [
    "## Now Plot both column as xlabel"
   ]
  },
  {
   "cell_type": "code",
   "execution_count": 20,
   "metadata": {},
   "outputs": [
    {
     "data": {
      "text/plain": [
       "Text(0.5, 0, 'computed/transform_origin /computed/line_height ')"
      ]
     },
     "execution_count": 20,
     "metadata": {},
     "output_type": "execute_result"
    },
    {
     "data": {
      "image/png": "[encoded data removed]",
      "text/plain": [
       "<Figure size 1296x576 with 1 Axes>"
      ]
     },
     "metadata": {
      "needs_background": "light"
     },
     "output_type": "display_data"
    }
   ],
   "source": [
    "plt.figure(figsize=(18,8))\n",
    "plot_transform = sns.distplot(df[\"computed/transform_origin\"])\n",
    "plot_transform = sns.distplot(df[\"computed/perspective_origin\"])\n",
    "plt.xlabel('computed/transform_origin /computed/line_height ')"
   ]
  },
  {
   "cell_type": "markdown",
   "metadata": {},
   "source": [
    "# Implementation of K-Means Clustering in this Web Elements Dataset to set for the k parameter in the model"
   ]
  },
  {
   "cell_type": "markdown",
   "metadata": {},
   "source": [
    "### KMeans Method"
   ]
  },
  {
   "cell_type": "code",
   "execution_count": 32,
   "metadata": {},
   "outputs": [],
   "source": [
    "import sklearn\n",
    " \n",
    "from sklearn.preprocessing import scale\n",
    "\n",
    "import sklearn.metrics as sm\n",
    "from sklearn import datasets\n",
    "from sklearn.metrics import confusion_matrix,classification_report"
   ]
  },
  {
   "cell_type": "code",
   "execution_count": 34,
   "metadata": {},
   "outputs": [],
   "source": [
    " from sklearn.cluster import KMeans"
   ]
  },
  {
   "cell_type": "code",
   "execution_count": 61,
   "metadata": {},
   "outputs": [],
   "source": [
    "kmeans = KMeans(n_clusters=6)"
   ]
  },
  {
   "cell_type": "code",
   "execution_count": 62,
   "metadata": {},
   "outputs": [],
   "source": [
    "X = np.array(df['bounds/areaDensity'])"
   ]
  },
  {
   "cell_type": "code",
   "execution_count": 63,
   "metadata": {},
   "outputs": [],
   "source": [
    "X = X.reshape(-1,1)"
   ]
  },
  {
   "cell_type": "code",
   "execution_count": 64,
   "metadata": {},
   "outputs": [
    {
     "data": {
      "text/plain": [
       "KMeans(algorithm='auto', copy_x=True, init='k-means++', max_iter=300,\n",
       "    n_clusters=6, n_init=10, n_jobs=None, precompute_distances='auto',\n",
       "    random_state=None, tol=0.0001, verbose=0)"
      ]
     },
     "execution_count": 64,
     "metadata": {},
     "output_type": "execute_result"
    }
   ],
   "source": [
    "kmeans.fit(X)"
   ]
  },
  {
   "cell_type": "code",
   "execution_count": 65,
   "metadata": {},
   "outputs": [
    {
     "data": {
      "text/plain": [
       "array([[1936.01614769],\n",
       "       [2063.31084644],\n",
       "       [1479.24115102],\n",
       "       [2003.46446203],\n",
       "       [1016.01383969],\n",
       "       [1838.24758527]])"
      ]
     },
     "execution_count": 65,
     "metadata": {},
     "output_type": "execute_result"
    }
   ],
   "source": [
    "centers = kmeans.cluster_centers_\n",
    "centers"
   ]
  },
  {
   "cell_type": "code",
   "execution_count": 66,
   "metadata": {},
   "outputs": [
    {
     "data": {
      "text/plain": [
       "array([3, 3, 3, ..., 3, 3, 1])"
      ]
     },
     "execution_count": 66,
     "metadata": {},
     "output_type": "execute_result"
    }
   ],
   "source": [
    "kmeans.labels_"
   ]
  },
  {
   "cell_type": "code",
   "execution_count": 67,
   "metadata": {},
   "outputs": [],
   "source": [
    "def converter(txt):\n",
    "    if txt == 'True':\n",
    "        return 1\n",
    "    else:\n",
    "        return 0"
   ]
  },
  {
   "cell_type": "code",
   "execution_count": 68,
   "metadata": {},
   "outputs": [],
   "source": [
    "df['Cluster']= df['bounds/areaDensity'].apply(converter)"
   ]
  },
  {
   "cell_type": "code",
   "execution_count": 69,
   "metadata": {},
   "outputs": [
    {
     "data": {
      "text/html": [
       "<div>\n",
       "<style scoped>\n",
       "    .dataframe tbody tr th:only-of-type {\n",
       "        vertical-align: middle;\n",
       "    }\n",
       "\n",
       "    .dataframe tbody tr th {\n",
       "        vertical-align: top;\n",
       "    }\n",
       "\n",
       "    .dataframe thead th {\n",
       "        text-align: right;\n",
       "    }\n",
       "</style>\n",
       "<table border=\"1\" class=\"dataframe\">\n",
       "  <thead>\n",
       "    <tr style=\"text-align: right;\">\n",
       "      <th></th>\n",
       "      <th>text</th>\n",
       "      <th>url</th>\n",
       "      <th>bounds/width</th>\n",
       "      <th>bounds/height</th>\n",
       "      <th>bounds/left</th>\n",
       "      <th>bounds/right</th>\n",
       "      <th>bounds/top</th>\n",
       "      <th>bounds/bottom</th>\n",
       "      <th>bounds/fontSize</th>\n",
       "      <th>bounds/density</th>\n",
       "      <th>...</th>\n",
       "      <th>bounds/text_count</th>\n",
       "      <th>meta/moreBigText</th>\n",
       "      <th>meta/isDownTitle</th>\n",
       "      <th>meta/tagName</th>\n",
       "      <th>meta/hasCluster</th>\n",
       "      <th>computed/transform_origin</th>\n",
       "      <th>computed/perspective_origin</th>\n",
       "      <th>computed/line_height</th>\n",
       "      <th>computed/position</th>\n",
       "      <th>Cluster</th>\n",
       "    </tr>\n",
       "  </thead>\n",
       "  <tbody>\n",
       "    <tr>\n",
       "      <th>0</th>\n",
       "      <td>Elon Musk, guardián de la galaxia</td>\n",
       "      <td>https://elpais.com/elpais/2018/04/25/icon/1524...</td>\n",
       "      <td>980.0</td>\n",
       "      <td>47.0</td>\n",
       "      <td>310.0</td>\n",
       "      <td>1290.0</td>\n",
       "      <td>209.0</td>\n",
       "      <td>256.0</td>\n",
       "      <td>42.0196</td>\n",
       "      <td>309.228071</td>\n",
       "      <td>...</td>\n",
       "      <td>33</td>\n",
       "      <td>True</td>\n",
       "      <td>False</td>\n",
       "      <td>H1</td>\n",
       "      <td>False</td>\n",
       "      <td>490.0</td>\n",
       "      <td>490.0</td>\n",
       "      <td>47.9024</td>\n",
       "      <td>relative</td>\n",
       "      <td>0</td>\n",
       "    </tr>\n",
       "    <tr>\n",
       "      <th>1</th>\n",
       "      <td>Lo que separa a este hombre de anteriores char...</td>\n",
       "      <td>https://elpais.com/elpais/2018/04/25/icon/1524...</td>\n",
       "      <td>980.0</td>\n",
       "      <td>54.0</td>\n",
       "      <td>310.0</td>\n",
       "      <td>1290.0</td>\n",
       "      <td>270.0</td>\n",
       "      <td>324.0</td>\n",
       "      <td>20.0014</td>\n",
       "      <td>229.601829</td>\n",
       "      <td>...</td>\n",
       "      <td>166</td>\n",
       "      <td>False</td>\n",
       "      <td>True</td>\n",
       "      <td>H2</td>\n",
       "      <td>False</td>\n",
       "      <td>490.0</td>\n",
       "      <td>490.0</td>\n",
       "      <td>27.0019</td>\n",
       "      <td>relative</td>\n",
       "      <td>0</td>\n",
       "    </tr>\n",
       "    <tr>\n",
       "      <th>2</th>\n",
       "      <td>Elon Musk dice tener un proyecto de nave espac...</td>\n",
       "      <td>https://elpais.com/elpais/2018/04/25/icon/1524...</td>\n",
       "      <td>980.0</td>\n",
       "      <td>48.0</td>\n",
       "      <td>310.0</td>\n",
       "      <td>1290.0</td>\n",
       "      <td>1085.0</td>\n",
       "      <td>1133.0</td>\n",
       "      <td>12.9941</td>\n",
       "      <td>213.267438</td>\n",
       "      <td>...</td>\n",
       "      <td>234</td>\n",
       "      <td>False</td>\n",
       "      <td>True</td>\n",
       "      <td>FIGCAPTION</td>\n",
       "      <td>False</td>\n",
       "      <td>490.0</td>\n",
       "      <td>490.0</td>\n",
       "      <td>14.0336</td>\n",
       "      <td>relative</td>\n",
       "      <td>0</td>\n",
       "    </tr>\n",
       "    <tr>\n",
       "      <th>3</th>\n",
       "      <td>27 ABR 2018 - 10:56CEST</td>\n",
       "      <td>https://elpais.com/elpais/2018/04/25/icon/1524...</td>\n",
       "      <td>980.0</td>\n",
       "      <td>18.0</td>\n",
       "      <td>310.0</td>\n",
       "      <td>1290.0</td>\n",
       "      <td>1179.0</td>\n",
       "      <td>1197.0</td>\n",
       "      <td>17.0080</td>\n",
       "      <td>222.968608</td>\n",
       "      <td>...</td>\n",
       "      <td>23</td>\n",
       "      <td>False</td>\n",
       "      <td>True</td>\n",
       "      <td>DIV</td>\n",
       "      <td>False</td>\n",
       "      <td>490.0</td>\n",
       "      <td>490.0</td>\n",
       "      <td>16</td>\n",
       "      <td>relative</td>\n",
       "      <td>0</td>\n",
       "    </tr>\n",
       "    <tr>\n",
       "      <th>4</th>\n",
       "      <td>En el fulgor marfileño de la dentadura de Elon...</td>\n",
       "      <td>https://elpais.com/elpais/2018/04/25/icon/1524...</td>\n",
       "      <td>640.0</td>\n",
       "      <td>140.0</td>\n",
       "      <td>310.0</td>\n",
       "      <td>950.0</td>\n",
       "      <td>1217.0</td>\n",
       "      <td>1357.0</td>\n",
       "      <td>17.0080</td>\n",
       "      <td>282.752542</td>\n",
       "      <td>...</td>\n",
       "      <td>369</td>\n",
       "      <td>False</td>\n",
       "      <td>True</td>\n",
       "      <td>P</td>\n",
       "      <td>True</td>\n",
       "      <td>320.0</td>\n",
       "      <td>320.0</td>\n",
       "      <td>28.0632</td>\n",
       "      <td>relative</td>\n",
       "      <td>0</td>\n",
       "    </tr>\n",
       "  </tbody>\n",
       "</table>\n",
       "<p>5 rows × 22 columns</p>\n",
       "</div>"
      ],
      "text/plain": [
       "                                                text  \\\n",
       "0                  Elon Musk, guardián de la galaxia   \n",
       "1  Lo que separa a este hombre de anteriores char...   \n",
       "2  Elon Musk dice tener un proyecto de nave espac...   \n",
       "3                            27 ABR 2018 - 10:56CEST   \n",
       "4  En el fulgor marfileño de la dentadura de Elon...   \n",
       "\n",
       "                                                 url  bounds/width  \\\n",
       "0  https://elpais.com/elpais/2018/04/25/icon/1524...         980.0   \n",
       "1  https://elpais.com/elpais/2018/04/25/icon/1524...         980.0   \n",
       "2  https://elpais.com/elpais/2018/04/25/icon/1524...         980.0   \n",
       "3  https://elpais.com/elpais/2018/04/25/icon/1524...         980.0   \n",
       "4  https://elpais.com/elpais/2018/04/25/icon/1524...         640.0   \n",
       "\n",
       "   bounds/height  bounds/left  bounds/right  bounds/top  bounds/bottom  \\\n",
       "0           47.0        310.0        1290.0       209.0          256.0   \n",
       "1           54.0        310.0        1290.0       270.0          324.0   \n",
       "2           48.0        310.0        1290.0      1085.0         1133.0   \n",
       "3           18.0        310.0        1290.0      1179.0         1197.0   \n",
       "4          140.0        310.0         950.0      1217.0         1357.0   \n",
       "\n",
       "   bounds/fontSize  bounds/density  ...  bounds/text_count  meta/moreBigText  \\\n",
       "0          42.0196      309.228071  ...                 33              True   \n",
       "1          20.0014      229.601829  ...                166             False   \n",
       "2          12.9941      213.267438  ...                234             False   \n",
       "3          17.0080      222.968608  ...                 23             False   \n",
       "4          17.0080      282.752542  ...                369             False   \n",
       "\n",
       "   meta/isDownTitle  meta/tagName  meta/hasCluster computed/transform_origin  \\\n",
       "0             False            H1            False                     490.0   \n",
       "1              True            H2            False                     490.0   \n",
       "2              True    FIGCAPTION            False                     490.0   \n",
       "3              True           DIV            False                     490.0   \n",
       "4              True             P             True                     320.0   \n",
       "\n",
       "   computed/perspective_origin  computed/line_height  computed/position  \\\n",
       "0                        490.0               47.9024           relative   \n",
       "1                        490.0               27.0019           relative   \n",
       "2                        490.0               14.0336           relative   \n",
       "3                        490.0                    16           relative   \n",
       "4                        320.0               28.0632           relative   \n",
       "\n",
       "  Cluster  \n",
       "0       0  \n",
       "1       0  \n",
       "2       0  \n",
       "3       0  \n",
       "4       0  \n",
       "\n",
       "[5 rows x 22 columns]"
      ]
     },
     "execution_count": 69,
     "metadata": {},
     "output_type": "execute_result"
    }
   ],
   "source": [
    "df.head()"
   ]
  },
  {
   "cell_type": "code",
   "execution_count": 70,
   "metadata": {},
   "outputs": [
    {
     "name": "stdout",
     "output_type": "stream",
     "text": [
      "[[1371 4120   27 1938    7  416]\n",
      " [   0    0    0    0    0    0]\n",
      " [   0    0    0    0    0    0]\n",
      " [   0    0    0    0    0    0]\n",
      " [   0    0    0    0    0    0]\n",
      " [   0    0    0    0    0    0]]\n",
      "\n",
      "\n",
      "              precision    recall  f1-score   support\n",
      "\n",
      "           0       1.00      0.17      0.30      7879\n",
      "           1       0.00      0.00      0.00         0\n",
      "           2       0.00      0.00      0.00         0\n",
      "           3       0.00      0.00      0.00         0\n",
      "           4       0.00      0.00      0.00         0\n",
      "           5       0.00      0.00      0.00         0\n",
      "\n",
      "   micro avg       0.17      0.17      0.17      7879\n",
      "   macro avg       0.17      0.03      0.05      7879\n",
      "weighted avg       1.00      0.17      0.30      7879\n",
      "\n"
     ]
    },
    {
     "name": "stderr",
     "output_type": "stream",
     "text": [
      "C:\\ProgramData\\Anaconda3\\lib\\site-packages\\sklearn\\metrics\\classification.py:1145: UndefinedMetricWarning: Recall and F-score are ill-defined and being set to 0.0 in labels with no true samples.\n",
      "  'recall', 'true', average, warn_for)\n",
      "C:\\ProgramData\\Anaconda3\\lib\\site-packages\\sklearn\\metrics\\classification.py:1145: UndefinedMetricWarning: Recall and F-score are ill-defined and being set to 0.0 in labels with no true samples.\n",
      "  'recall', 'true', average, warn_for)\n",
      "C:\\ProgramData\\Anaconda3\\lib\\site-packages\\sklearn\\metrics\\classification.py:1145: UndefinedMetricWarning: Recall and F-score are ill-defined and being set to 0.0 in labels with no true samples.\n",
      "  'recall', 'true', average, warn_for)\n"
     ]
    }
   ],
   "source": [
    "\n",
    "print(confusion_matrix(df['Cluster'],kmeans.labels_))\n",
    "print('\\n')\n",
    "print(classification_report(df['Cluster'],kmeans.labels_))"
   ]
  },
  {
   "cell_type": "markdown",
   "metadata": {},
   "source": [
    " ## Using the dendrogram to find the optimal number of clusters"
   ]
  },
  {
   "cell_type": "code",
   "execution_count": 72,
   "metadata": {},
   "outputs": [],
   "source": [
    " import scipy.cluster.hierarchy as sch"
   ]
  },
  {
   "cell_type": "code",
   "execution_count": 73,
   "metadata": {},
   "outputs": [
    {
     "data": {
      "image/png": "[encoded data removed]",
      "text/plain": [
       "<Figure size 1296x576 with 1 Axes>"
      ]
     },
     "metadata": {
      "needs_background": "light"
     },
     "output_type": "display_data"
    }
   ],
   "source": [
    "plt.figure(figsize=(18,8))\n",
    "dend=sch.dendrogram(sch.linkage(X, method='ward'))\n",
    "plt.title(\"Dendrogram Of the Web Contents Dataset\")\n",
    "plt.xlabel('bounds/areaDensity')\n",
    "plt.ylabel('computed/perspective_origin')\n",
    "plt.show()"
   ]
  },
  {
   "cell_type": "code",
   "execution_count": null,
   "metadata": {},
   "outputs": [],
   "source": []
  }
 ],
 "metadata": {
  "kernelspec": {
   "display_name": "Python 3",
   "language": "python",
   "name": "python3"
  },
  "language_info": {
   "codemirror_mode": {
    "name": "ipython",
    "version": 3
   },
   "file_extension": ".py",
   "mimetype": "text/x-python",
   "name": "python",
   "nbconvert_exporter": "python",
   "pygments_lexer": "ipython3",
   "version": "3.7.3"
  }
 },
 "nbformat": 4,
 "nbformat_minor": 2
}
